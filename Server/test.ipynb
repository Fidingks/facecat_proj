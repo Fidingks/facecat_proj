{
 "cells": [
  {
   "cell_type": "code",
   "execution_count": null,
   "metadata": {},
   "outputs": [
    {
     "name": "stdout",
     "output_type": "stream",
     "text": [
      "Update Successful!\n",
      "Response: {'detail': 'Strategy record updated successfully'}\n"
     ]
    }
   ],
   "source": [
    "import requests\n",
    "\n",
    "# FastAPI 服务的地址和端口\n",
    "BASE_URL = \"http://127.0.0.1:8000\"\n",
    "\n",
    "# 请求的路径参数 strategy_id\n",
    "strategy_id = \"dsadsagdew\"\n",
    "\n",
    "# 完整的请求 URL\n",
    "url = f\"{BASE_URL}/update-strategy/{strategy_id}\"\n",
    "\n",
    "# 要提交的 JSON 数据\n",
    "payload = {\n",
    "    \"symbol\": \"AAPL\",\n",
    "    \"strategy_type\": 2,\n",
    "    \"strategy\": \"{up_over:8888,down_below:234}\",\n",
    "    \"strategy_abstract\": \"This is the updated abstract.\",\n",
    "    \"notify_level\": 3,\n",
    "    \"notify_interval_time\": 7200,\n",
    "    \"total_notify_times\": 15\n",
    "}\n",
    "\n",
    "# 发送 PUT 请求\n",
    "try:\n",
    "    response = requests.put(url, json=payload)\n",
    "\n",
    "    # 检查响应状态\n",
    "    if response.status_code == 200:\n",
    "        print(\"Update Successful!\")\n",
    "        print(\"Response:\", response.json())\n",
    "    elif response.status_code == 404:\n",
    "        print(\"Error: Strategy record not found!\")\n",
    "        print(\"Response:\", response.json())\n",
    "    else:\n",
    "        print(f\"Error: Received unexpected status code {response.status_code}\")\n",
    "        print(\"Response:\", response.json())\n",
    "except requests.exceptions.RequestException as e:\n",
    "    print(\"Error: Could not connect to the server.\")\n",
    "    print(e)\n"
   ]
  }
 ],
 "metadata": {
  "kernelspec": {
   "display_name": "Python 3",
   "language": "python",
   "name": "python3"
  },
  "language_info": {
   "codemirror_mode": {
    "name": "ipython",
    "version": 3
   },
   "file_extension": ".py",
   "mimetype": "text/x-python",
   "name": "python",
   "nbconvert_exporter": "python",
   "pygments_lexer": "ipython3",
   "version": "3.13.0"
  }
 },
 "nbformat": 4,
 "nbformat_minor": 2
}
